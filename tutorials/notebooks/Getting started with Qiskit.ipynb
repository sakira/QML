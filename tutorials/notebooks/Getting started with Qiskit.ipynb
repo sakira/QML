{
 "cells": [
  {
   "cell_type": "markdown",
   "metadata": {},
   "source": [
    "# Getting started with Qiskit"
   ]
  },
  {
   "cell_type": "markdown",
   "metadata": {},
   "source": [
    "Original source: [Documentation](https://qiskit.org/documentation/tutorials/circuits/1_getting_started_with_qiskit.html)"
   ]
  },
  {
   "cell_type": "markdown",
   "metadata": {},
   "source": [
    "Installing Qiskit textbook packages See README.md"
   ]
  },
  {
   "cell_type": "markdown",
   "metadata": {},
   "source": [
    "#### Before you deep dive into the code, check the following definition:\n",
    "- Qubit: A qubit is a quantum bit.\n",
    "- Qiskit: A software development toolkit to work with quantum computers\n"
   ]
  },
  {
   "cell_type": "markdown",
   "metadata": {},
   "source": [
    "In quantum mechanics, instead of using normal probabilities, we use $\\textit{probability amplitudes}$. Amplitudes are similar to probabilities as each outcome has a $\\textbf{magnitude}$ which tells how likely the outcome is to occur. However, amplitudes have an another additional property: $\\textbf{phase}$ which tells the direction.\n",
    "More info can be found [here](https://learn.qiskit.org/course/introduction/what-is-quantum)."
   ]
  },
  {
   "cell_type": "markdown",
   "metadata": {},
   "source": [
    "### Exercise 1:\n",
    "If you have $n$ qubits, how many possible outcomes are there?\n",
    "### Exercise 2:\n",
    "If you want to predict the behaviour of $n$ qubits using vectors like those above, you need to keep track of at most __ amplitudes."
   ]
  },
  {
   "cell_type": "code",
   "execution_count": null,
   "metadata": {},
   "outputs": [],
   "source": []
  },
  {
   "cell_type": "markdown",
   "metadata": {},
   "source": [
    "## Workflow of Qiskit\n",
    "\n",
    "- Build: Design a quantum circuit(s) that represents the problem at hand.\n",
    "- Execute: Compile and run circuits in different background such as in a specific quantum system or classical simulator.\n",
    "\n",
    "We will go through some examples here.\n"
   ]
  },
  {
   "cell_type": "markdown",
   "metadata": {},
   "source": [
    "#### Build"
   ]
  },
  {
   "cell_type": "markdown",
   "metadata": {},
   "source": [
    "We import the following routines from the Qiskit library:\n",
    "\n",
    "- QuantumCircuit: This routine is used to create a quantum circuit.\n"
   ]
  },
  {
   "cell_type": "markdown",
   "metadata": {},
   "source": [
    "Here, we generate our first quantum circuit with 2 qubits and 2 outputs."
   ]
  },
  {
   "cell_type": "code",
   "execution_count": 1,
   "metadata": {},
   "outputs": [],
   "source": [
    "from qiskit import QuantumCircuit"
   ]
  },
  {
   "cell_type": "code",
   "execution_count": 2,
   "metadata": {},
   "outputs": [],
   "source": [
    "n = 2\n",
    "n_q = n # quibits\n",
    "n_b = n # output\n",
    "qc_output = QuantumCircuit(n_q, n_b)"
   ]
  },
  {
   "cell_type": "code",
   "execution_count": 3,
   "metadata": {},
   "outputs": [
    {
     "data": {
      "text/html": [
       "<pre style=\"word-wrap: normal;white-space: pre;background: #fff0;line-height: 1.1;font-family: &quot;Courier New&quot;,Courier,monospace\">     \n",
       "q_0: \n",
       "     \n",
       "q_1: \n",
       "     \n",
       "c: 2/\n",
       "     </pre>"
      ],
      "text/plain": [
       "     \n",
       "q_0: \n",
       "     \n",
       "q_1: \n",
       "     \n",
       "c: 2/\n",
       "     "
      ]
     },
     "execution_count": 3,
     "metadata": {},
     "output_type": "execute_result"
    }
   ],
   "source": [
    "qc_output.draw()"
   ]
  },
  {
   "cell_type": "markdown",
   "metadata": {},
   "source": [
    "We don't see anything yet!\n",
    "\n",
    "The extraction of outputs in QC is done using an operation called $\\textit{measure}$. Each measurement tells a specific qubit to give an output to a specific output bit.\n",
    "\n",
    "The command qc_output.measure(j, j) tells qubit j to write an output to bit j."
   ]
  },
  {
   "cell_type": "code",
   "execution_count": 4,
   "metadata": {},
   "outputs": [],
   "source": [
    "for j in range(n):\n",
    "    qc_output.measure(j,j)"
   ]
  },
  {
   "cell_type": "markdown",
   "metadata": {},
   "source": [
    "Now, see the difference!"
   ]
  },
  {
   "cell_type": "code",
   "execution_count": 5,
   "metadata": {},
   "outputs": [
    {
     "data": {
      "text/html": [
       "<pre style=\"word-wrap: normal;white-space: pre;background: #fff0;line-height: 1.1;font-family: &quot;Courier New&quot;,Courier,monospace\">     ┌─┐   \n",
       "q_0: ┤M├───\n",
       "     └╥┘┌─┐\n",
       "q_1: ─╫─┤M├\n",
       "      ║ └╥┘\n",
       "c: 2/═╩══╩═\n",
       "      0  1 </pre>"
      ],
      "text/plain": [
       "     ┌─┐   \n",
       "q_0: ┤M├───\n",
       "     └╥┘┌─┐\n",
       "q_1: ─╫─┤M├\n",
       "      ║ └╥┘\n",
       "c: 2/═╩══╩═\n",
       "      0  1 "
      ]
     },
     "execution_count": 5,
     "metadata": {},
     "output_type": "execute_result"
    }
   ],
   "source": [
    "qc_output.draw()"
   ]
  },
  {
   "cell_type": "markdown",
   "metadata": {},
   "source": [
    "#### Execute"
   ]
  },
  {
   "cell_type": "markdown",
   "metadata": {},
   "source": [
    "Qubits are always initialized to give the output 0. \n",
    "We do not have anything in out qubits in the circuit above.\n",
    "We can see this by running the circuit many times and plotting the results in a histogram."
   ]
  },
  {
   "cell_type": "markdown",
   "metadata": {},
   "source": [
    "Here, we will use the following routines:\n",
    "\n",
    "- QasmSimulator: We use an Aer simulator. More info about [Aer](https://medium.com/qiskit/qiskit-aer-d09d0fac7759)\n",
    "- plot_histogram: This routine plots histogram\n",
    "\n",
    "Examples with different [Aer backend](https://qiskit.org/documentation/tutorials/circuits/1_getting_started_with_qiskit.html#:~:text=A%20basic%20workflow%20using%20Qiskit,run%20them%20on%20different%20backends.)"
   ]
  },
  {
   "cell_type": "code",
   "execution_count": 6,
   "metadata": {},
   "outputs": [],
   "source": [
    "from qiskit.providers.aer import QasmSimulator"
   ]
  },
  {
   "cell_type": "code",
   "execution_count": 7,
   "metadata": {},
   "outputs": [],
   "source": [
    "# Use Aer's qasmSimulator\n",
    "simulator = QasmSimulator()"
   ]
  },
  {
   "cell_type": "code",
   "execution_count": 8,
   "metadata": {},
   "outputs": [],
   "source": [
    "# Execute the circuit on the qasm simulator\n",
    "job = simulator.run(qc_output, shots=1000)\n"
   ]
  },
  {
   "cell_type": "code",
   "execution_count": 9,
   "metadata": {},
   "outputs": [],
   "source": [
    "# Grab results from the job\n",
    "result = job.result()"
   ]
  },
  {
   "cell_type": "code",
   "execution_count": 10,
   "metadata": {},
   "outputs": [
    {
     "data": {
      "text/plain": [
       "Result(backend_name='qasm_simulator', backend_version='0.10.2', qobj_id='6ffca9de-6881-4ce2-b724-5c5eeb7a6992', job_id='5e988017-772d-4147-8fca-0ecf5257ba43', success=True, results=[ExperimentResult(shots=1000, success=True, meas_level=2, data=ExperimentResultData(counts={'0x0': 1000}), header=QobjExperimentHeader(clbit_labels=[['c', 0], ['c', 1]], creg_sizes=[['c', 2]], global_phase=0.0, memory_slots=2, metadata=None, n_qubits=2, name='circuit-0', qreg_sizes=[['q', 2]], qubit_labels=[['q', 0], ['q', 1]]), status=DONE, seed_simulator=458469084, metadata={'parallel_state_update': 12, 'noise': 'ideal', 'batched_shots_optimization': False, 'measure_sampling': True, 'device': 'CPU', 'num_qubits': 2, 'parallel_shots': 1, 'remapped_qubits': False, 'method': 'stabilizer', 'active_input_qubits': [0, 1], 'num_clbits': 2, 'input_qubit_map': [[1, 1], [0, 0]], 'fusion': {'enabled': False}}, time_taken=0.00201371)], date=2022-02-13T15:23:39.116391, status=COMPLETED, status=QobjHeader(backend_name='qasm_simulator', backend_version='0.10.2'), metadata={'time_taken': 0.0023289070000000003, 'time_taken_execute': 0.00204792, 'parallel_experiments': 1, 'omp_enabled': True, 'max_gpu_memory_mb': 0, 'num_mpi_processes': 1, 'time_taken_load_qobj': 0.000206004, 'max_memory_mb': 31933, 'mpi_rank': 0}, time_taken=0.0024526119232177734)"
      ]
     },
     "execution_count": 10,
     "metadata": {},
     "output_type": "execute_result"
    }
   ],
   "source": [
    "# See what the result contains\n",
    "result"
   ]
  },
  {
   "cell_type": "code",
   "execution_count": 11,
   "metadata": {},
   "outputs": [],
   "source": [
    "# Returns counts\n",
    "counts = result.get_counts(qc_output)"
   ]
  },
  {
   "cell_type": "markdown",
   "metadata": {},
   "source": [
    "### Visualize "
   ]
  },
  {
   "cell_type": "markdown",
   "metadata": {},
   "source": [
    "We can visualize using plot_histogram().\n",
    "\n",
    "You can find more visualization routines [here](https://qiskit.org/documentation/apidoc/visualization.html)"
   ]
  },
  {
   "cell_type": "code",
   "execution_count": 12,
   "metadata": {},
   "outputs": [],
   "source": [
    "from qiskit.visualization import plot_histogram"
   ]
  },
  {
   "cell_type": "code",
   "execution_count": 13,
   "metadata": {},
   "outputs": [
    {
     "data": {
      "image/png": "[encoded data removed]",
      "text/plain": [
       "<Figure size 504x360 with 1 Axes>"
      ]
     },
     "execution_count": 13,
     "metadata": {},
     "output_type": "execute_result"
    }
   ],
   "source": [
    "plot_histogram(counts)"
   ]
  },
  {
   "cell_type": "markdown",
   "metadata": {},
   "source": [
    "We will always see that the result is 00: a 0 from each qubit."
   ]
  },
  {
   "cell_type": "markdown",
   "metadata": {},
   "source": [
    "### Exercise \n",
    "Change n = 2 to n = 8. Build the circuit, compile and run the visualization. See how the results differ."
   ]
  },
  {
   "cell_type": "code",
   "execution_count": null,
   "metadata": {},
   "outputs": [],
   "source": []
  },
  {
   "cell_type": "markdown",
   "metadata": {},
   "source": [
    "### Example\n",
    "[ref](https://qiskit.org/documentation/stubs/qiskit.circuit.QuantumCircuit.html)\n",
    "\n",
    "Construct a simple bell state circuit.\n",
    "\n",
    "Construct a 5-qubit GHZ circuit."
   ]
  }
 ],
 "metadata": {
  "kernelspec": {
   "display_name": "Python 3",
   "language": "python",
   "name": "python3"
  },
  "language_info": {
   "codemirror_mode": {
    "name": "ipython",
    "version": 3
   },
   "file_extension": ".py",
   "mimetype": "text/x-python",
   "name": "python",
   "nbconvert_exporter": "python",
   "pygments_lexer": "ipython3",
   "version": "3.8.3"
  }
 },
 "nbformat": 4,
 "nbformat_minor": 4
}
