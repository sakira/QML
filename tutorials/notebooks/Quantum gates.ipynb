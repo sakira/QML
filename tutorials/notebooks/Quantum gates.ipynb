{
 "cells": [
  {
   "cell_type": "markdown",
   "metadata": {},
   "source": [
    "### This tutorial provides you the basics of the Quantum Gates.\n",
    "\n",
    "A quauntum gate\n",
    "- acts on qubits i.e. 0 or 1.\n",
    "- transforms the state of a qubit into other states.\n",
    "\n",
    "If we denote a quantum gate using $U$, then acting on qubits can be represented as \n",
    "\n",
    "$$\n",
    "U \\mid 0 \\rangle \\\\\n",
    "U \\mid 1 \\rangle.\n",
    "$$\n",
    "\n",
    "\n",
    "After applying $U$ on 0, for example, gives\n",
    "\n",
    "$$\n",
    "U \\mid 0 \\rangle = \\frac{\\sqrt{2} - i}{2} \\mid 0 \\rangle - \\frac{1}{2} \\mid 1 \\rangle,\n",
    "$$\n",
    "\n",
    "and on 1 gives\n",
    "\n",
    "$$\n",
    "U \\mid 1 \\rangle = \\frac{1}{2} \\mid 0 \\rangle - \\frac{\\sqrt{2} - i}{2} \\mid 1 \\rangle .\n",
    "$$\n",
    "\n"
   ]
  },
  {
   "cell_type": "markdown",
   "metadata": {},
   "source": [
    "A valid gate must have following properties:\n",
    "- linearity i.e. $ U(\\alpha \\mid 0 \\rangle + \\beta \\mid 1 \\rangle = \\alpha U \\mid 0 \\rangle + \\beta U \\mid 1 \\rangle$.\n",
    "- The total probablity that is the sum of norm of each amplitude must be equal to 1. $ \\mid \\alpha \\mid^2 + \\mid \\beta \\mid^2  = 1$."
   ]
  },
  {
   "cell_type": "markdown",
   "metadata": {},
   "source": [
    "We will now list some of the quantum gates that appear in quantum computing frequently."
   ]
  },
  {
   "cell_type": "markdown",
   "metadata": {},
   "source": [
    "### Identity gate $I$\n",
    "This gate turns $\\mid 0  \\rangle$ into $\\mid 0  \\rangle$ and $\\mid 1  \\rangle$ into $\\mid 1  \\rangle$. Hence, the identity gate does nothing.\n",
    "\n",
    "$$\n",
    "    I \\mid 0  \\rangle = \\mid 0  \\rangle \n",
    "$$\n",
    "$$\n",
    "    I \\mid 1  \\rangle = \\mid 1  \\rangle\n",
    "$$"
   ]
  },
  {
   "cell_type": "markdown",
   "metadata": {},
   "source": [
    "### Pauli X-gate or NOT gate\n",
    "This gate turns $\\mid 0  \\rangle$ into $\\mid 1  \\rangle$ and $\\mid 1  \\rangle$ into $\\mid 0  \\rangle$.\n",
    "\n",
    "$$\n",
    "    X \\mid 0  \\rangle = \\mid 1  \\rangle\n",
    "$$\n"
   ]
  },
  {
   "cell_type": "markdown",
   "metadata": {},
   "source": [
    "$$\n",
    "    X \\mid 1  \\rangle = \\mid 0  \\rangle\n",
    "$$"
   ]
  },
  {
   "cell_type": "markdown",
   "metadata": {},
   "source": [
    "### Pauli Y-gate \n",
    "This gate turns $\\mid 0  \\rangle$ into $ i \\mid 1  \\rangle$ and $\\mid 1  \\rangle$ into $-i \\mid 0  \\rangle$. \n",
    "\n",
    "$$\n",
    "    Y \\mid 0  \\rangle = i \\mid 1  \\rangle\n",
    "$$\n",
    "$$\n",
    "    Y \\mid 1  \\rangle = -i \\mid 0  \\rangle\n",
    "$$"
   ]
  },
  {
   "cell_type": "markdown",
   "metadata": {},
   "source": [
    "### Pauli Z-gate\n",
    "This gate keeps $\\mid 0  \\rangle$ as $\\mid 0  \\rangle$ and turns $\\mid 1  \\rangle$ into $-\\mid 1  \\rangle$. \n",
    "\n",
    "$$\n",
    "    Z \\mid 0  \\rangle = \\mid 0  \\rangle\n",
    "$$\n",
    "$$\n",
    "    Z \\mid 1  \\rangle = - \\mid 1  \\rangle\n",
    "$$"
   ]
  },
  {
   "cell_type": "markdown",
   "metadata": {},
   "source": [
    "### Phase S-gate\n",
    "This gate is the square root of the Z-gate.\n",
    "\n",
    "$$\n",
    "    S \\mid 0  \\rangle = \\mid 0  \\rangle\n",
    "$$\n",
    "$$\n",
    "    S \\mid 1  \\rangle = i \\mid 1  \\rangle\n",
    "$$"
   ]
  },
  {
   "cell_type": "markdown",
   "metadata": {},
   "source": [
    "### T-gate or $\\pi/8$-gate\n",
    "This gate is the square root of the S-gate.\n",
    "\n",
    "$$\n",
    "    T \\mid 0  \\rangle = \\mid 0  \\rangle\n",
    "$$\n",
    "$$\n",
    "    T \\mid 1  \\rangle = \\exp^{i \\pi/4} \\mid 1  \\rangle\n",
    "$$"
   ]
  },
  {
   "cell_type": "markdown",
   "metadata": {},
   "source": [
    "### Hadamard gate or H-gate \n",
    "This gate turns $\\mid 0  \\rangle$ into $ \\mid +  \\rangle$ and $\\mid 1  \\rangle$ into $ \\mid -  \\rangle$. \n",
    "\n",
    "$$\n",
    "    H \\mid 0  \\rangle = \\frac{1}{\\sqrt{2}} ( \\mid 0 \\rangle + \\mid 1  \\rangle) = \\mid + \\rangle\n",
    "$$\n",
    "$$\n",
    "    H \\mid 1  \\rangle = \\frac{1}{\\sqrt{2}} ( \\mid 0 \\rangle - \\mid 1  \\rangle) = \\mid - \\rangle\n",
    "$$"
   ]
  },
  {
   "cell_type": "markdown",
   "metadata": {},
   "source": [
    "### Quantum circuits"
   ]
  },
  {
   "cell_type": "markdown",
   "metadata": {},
   "source": [
    "We can draw quantum circuit diagram that consists of qubits and quantum gates. For example, we apply three gates on a single qubit that is in the state $\\mid 0 \\rangle$ in the following order: H-gate, S-gate, and Z-gate. We can represent this as $ZSH \\mid 0 \\rangle$. Then, for example, we measure this in Z-basis. We can draw the quantum circuit diagram as follows: "
   ]
  },
  {
   "cell_type": "markdown",
   "metadata": {},
   "source": [
    "We import the library"
   ]
  },
  {
   "cell_type": "code",
   "execution_count": 1,
   "metadata": {},
   "outputs": [],
   "source": [
    "from qiskit import QuantumCircuit\n"
   ]
  },
  {
   "cell_type": "markdown",
   "metadata": {},
   "source": [
    "We create a single qubit circuit"
   ]
  },
  {
   "cell_type": "code",
   "execution_count": 2,
   "metadata": {},
   "outputs": [],
   "source": [
    "qc = QuantumCircuit(1)"
   ]
  },
  {
   "cell_type": "markdown",
   "metadata": {},
   "source": [
    "We apply H gate on 0"
   ]
  },
  {
   "cell_type": "code",
   "execution_count": 3,
   "metadata": {},
   "outputs": [
    {
     "data": {
      "text/html": [
       "<pre style=\"word-wrap: normal;white-space: pre;background: #fff0;line-height: 1.1;font-family: &quot;Courier New&quot;,Courier,monospace\">   ┌───┐\n",
       "q: ┤ H ├\n",
       "   └───┘</pre>"
      ],
      "text/plain": [
       "   ┌───┐\n",
       "q: ┤ H ├\n",
       "   └───┘"
      ]
     },
     "execution_count": 3,
     "metadata": {},
     "output_type": "execute_result"
    }
   ],
   "source": [
    "qc.h(0)\n",
    "qc.draw()"
   ]
  },
  {
   "cell_type": "markdown",
   "metadata": {},
   "source": [
    "We apply S gate and then Z gate as follows:"
   ]
  },
  {
   "cell_type": "code",
   "execution_count": 4,
   "metadata": {},
   "outputs": [
    {
     "data": {
      "text/html": [
       "<pre style=\"word-wrap: normal;white-space: pre;background: #fff0;line-height: 1.1;font-family: &quot;Courier New&quot;,Courier,monospace\">   ┌───┐┌───┐┌───┐\n",
       "q: ┤ H ├┤ S ├┤ Z ├\n",
       "   └───┘└───┘└───┘</pre>"
      ],
      "text/plain": [
       "   ┌───┐┌───┐┌───┐\n",
       "q: ┤ H ├┤ S ├┤ Z ├\n",
       "   └───┘└───┘└───┘"
      ]
     },
     "execution_count": 4,
     "metadata": {},
     "output_type": "execute_result"
    }
   ],
   "source": [
    "qc.s(0)\n",
    "qc.z(0)\n",
    "qc.draw()"
   ]
  },
  {
   "cell_type": "markdown",
   "metadata": {},
   "source": [
    "We did not measure the output yet. So, we measure it."
   ]
  },
  {
   "cell_type": "code",
   "execution_count": 5,
   "metadata": {},
   "outputs": [],
   "source": [
    "qc.measure_all()"
   ]
  },
  {
   "cell_type": "code",
   "execution_count": 6,
   "metadata": {},
   "outputs": [
    {
     "data": {
      "text/plain": [
       "<bound method QuantumCircuit.measure of <qiskit.circuit.quantumcircuit.QuantumCircuit object at 0x7fdb0c290250>>"
      ]
     },
     "execution_count": 6,
     "metadata": {},
     "output_type": "execute_result"
    }
   ],
   "source": [
    "qc.measure"
   ]
  },
  {
   "cell_type": "markdown",
   "metadata": {},
   "source": [
    "Now, we draw this."
   ]
  },
  {
   "cell_type": "code",
   "execution_count": 7,
   "metadata": {},
   "outputs": [
    {
     "data": {
      "text/html": [
       "<pre style=\"word-wrap: normal;white-space: pre;background: #fff0;line-height: 1.1;font-family: &quot;Courier New&quot;,Courier,monospace\">        ┌───┐┌───┐┌───┐ ░ ┌─┐\n",
       "     q: ┤ H ├┤ S ├┤ Z ├─░─┤M├\n",
       "        └───┘└───┘└───┘ ░ └╥┘\n",
       "meas: 1/═══════════════════╩═\n",
       "                           0 </pre>"
      ],
      "text/plain": [
       "        ┌───┐┌───┐┌───┐ ░ ┌─┐\n",
       "     q: ┤ H ├┤ S ├┤ Z ├─░─┤M├\n",
       "        └───┘└───┘└───┘ ░ └╥┘\n",
       "meas: 1/═══════════════════╩═\n",
       "                           0 "
      ]
     },
     "execution_count": 7,
     "metadata": {},
     "output_type": "execute_result"
    }
   ],
   "source": [
    "qc.draw()"
   ]
  },
  {
   "cell_type": "markdown",
   "metadata": {},
   "source": [
    "But what is the output? 'qc.measure_all()' just adds measurement gates. In order to get the output, we need the following routines:\n",
    "- We need a simulator\n",
    "- This simulator will run the designed circuit to generate the output\n",
    "- We measure output probabilities in the Z-basis\n",
    "- We visualize the probabilities with a histogram"
   ]
  },
  {
   "cell_type": "code",
   "execution_count": 8,
   "metadata": {},
   "outputs": [],
   "source": [
    "from qiskit import Aer\n",
    "from qiskit.visualization import plot_histogram"
   ]
  },
  {
   "cell_type": "code",
   "execution_count": null,
   "metadata": {},
   "outputs": [],
   "source": []
  },
  {
   "cell_type": "code",
   "execution_count": 9,
   "metadata": {},
   "outputs": [
    {
     "data": {
      "image/png": "[encoded data removed]",
      "text/plain": [
       "<Figure size 504x360 with 1 Axes>"
      ]
     },
     "execution_count": 9,
     "metadata": {},
     "output_type": "execute_result"
    }
   ],
   "source": [
    "sim = Aer.get_backend('aer_simulator') \n",
    "result = sim.run(qc).result()\n",
    "counts = result.get_counts()\n",
    "plot_histogram(counts)"
   ]
  },
  {
   "cell_type": "markdown",
   "metadata": {},
   "source": [
    "### Exercise"
   ]
  },
  {
   "cell_type": "markdown",
   "metadata": {},
   "source": [
    "- Generate the the circuit diagram for $HSTH\\mid 0 \\rangle$.\n",
    "- Simulate with Aer simulator and measure the output probabilities in Z-basis.\n",
    "- Can you do it in pen and paper to measure the output probabilities in Z-basis?"
   ]
  },
  {
   "cell_type": "code",
   "execution_count": null,
   "metadata": {},
   "outputs": [],
   "source": []
  },
  {
   "cell_type": "markdown",
   "metadata": {},
   "source": [
    "Food for thoughts measure() vs measure_all()"
   ]
  },
  {
   "cell_type": "markdown",
   "metadata": {},
   "source": [
    "### References\n",
    " - https://qiskit.org/textbook/ch-states/single-qubit-gates.html\n",
    " - Introudction to classical and quantum computing by Wong"
   ]
  }
 ],
 "metadata": {
  "kernelspec": {
   "display_name": "Python 3",
   "language": "python",
   "name": "python3"
  },
  "language_info": {
   "codemirror_mode": {
    "name": "ipython",
    "version": 3
   },
   "file_extension": ".py",
   "mimetype": "text/x-python",
   "name": "python",
   "nbconvert_exporter": "python",
   "pygments_lexer": "ipython3",
   "version": "3.8.3"
  }
 },
 "nbformat": 4,
 "nbformat_minor": 4
}
