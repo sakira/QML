{
 "cells": [
  {
   "cell_type": "markdown",
   "metadata": {},
   "source": [
    "#### This notebook gives an overview of Harrow Hassidim Lloyd algorithm.\n",
    "Source: https://qiskit.org/textbook/ch-applications/hhl_tutorial.html"
   ]
  },
  {
   "cell_type": "markdown",
   "metadata": {},
   "source": [
    "A very excellent lecture from Prof. Petteri Kaski on this can be found in: https://aalto.cloud.panopto.eu/Panopto/Pages/Viewer.aspx?id=951442f6-7ce0-451f-b2b6-ad5d010a0cd0 (Requires login and permission to access the video)"
   ]
  },
  {
   "cell_type": "markdown",
   "metadata": {},
   "source": [
    "#### Problem setup\n",
    "\n",
    "We have the following system:\n",
    "\n",
    "$$\n",
    "x_1 - \\frac{x_2}{3} = 1 \\\\\n",
    "- \\frac{x_1}{3} + x_2 = 0\n",
    "$$"
   ]
  },
  {
   "cell_type": "markdown",
   "metadata": {},
   "source": [
    "where $A = \\begin{bmatrix} 1 & -1/3 \\\\ - 1/3 & 1 \\end{bmatrix} \\in \\mathbb{C}^{N \\times N}$, $\\vec{b} = \\begin{bmatrix}1 & 0\\end{bmatrix}^T \\in \\mathbb{C}^N$, and $\\vec{x} = \\begin{bmatrix}x_1 & x_2\\end{bmatrix}^T \\in \\mathbb{C}^N$. So, we can write the system in matrix form\n",
    "\n",
    "$$\n",
    "A \\vec{x} = \\vec{b}.\n",
    "$$"
   ]
  },
  {
   "cell_type": "markdown",
   "metadata": {},
   "source": [
    "- s-sparse: If the matrix $A$ contains at most $s$ non-zero entries per row(column?), then  the system of linear equations is called s-sparse.\n",
    "- A s-parse system with size $N$ requires $\\mathcal{O}(N s \\kappa \\log(1/\\epsilon))$ running time complexity, where $\\kappa$ is the condition number of the system and $\\epsilon$ is the accuracy of the approximation.\n",
    "- HHL algorithm estimates a function of the solution with running time complexity of $\\mathcal{O}( \\log(N) s^2 \\kappa^2 /\\epsilon)$."
   ]
  },
  {
   "cell_type": "markdown",
   "metadata": {},
   "source": [
    "#### Why sparse solution?"
   ]
  },
  {
   "cell_type": "markdown",
   "metadata": {},
   "source": [
    "- We are interested in solving the system for large N. Say, $N = 2^{100}$. \n",
    "- A is quite large but s-sparse, where $ s <<< N$.\n",
    "- In this large system, we are either interested in getting the $k^{th}$ equation which has coefficients, $\\{a_{kj}\\}$, where $j \\leq s$.\n",
    "\n",
    "In reality, we cannot solve for the full solutions of such system with so large N. What we can do is that we try to get some information, for example what is the $j^{th}$ component of the solution or the sum of the solution vector."
   ]
  },
  {
   "cell_type": "markdown",
   "metadata": {},
   "source": [
    "#### Solving with Quantum computing\n",
    "If we want that quantum computers can solve such problem, then we need to encode the problem in quantum language.\n",
    "We normalize and map the vectors to their respective quatum states and the problem becomes\n",
    "$$\n",
    " A \\lvert x \\rangle = \\lvert b \\rangle.\n",
    "$$"
   ]
  },
  {
   "cell_type": "markdown",
   "metadata": {},
   "source": [
    "If A is a Hermitian matrix, then it can be decomposed as\n",
    "$$\n",
    "A = \\sum_{j=0}^{N-1} \\lambda_j \\lvert u_j \\rangle \\langle u_j \\rvert.\n",
    "$$\n",
    "The inverse of A can be written as\n",
    "$$\n",
    "A^{-1} = \\sum_{j=0}^{N-1} \\lambda_j^{-1} \\lvert u_j \\rangle \\langle u_j \\rvert.\n",
    "$$\n"
   ]
  },
  {
   "cell_type": "markdown",
   "metadata": {},
   "source": [
    "The right hand of the equation can also be written as the eigenbasis of A as\n",
    "$$\n",
    "\\lvert b \\rangle = \\sum_{j=0}^{N-1} b_j \\lvert u_j \\rangle\n",
    "$$\n"
   ]
  },
  {
   "cell_type": "markdown",
   "metadata": {},
   "source": [
    "The goal of the HHL algorithm is to exit the algorithm with the readout register in the state\n",
    "\n",
    "$$\n",
    "\\lvert x \\rangle = A^{-1} \\lvert b \\rangle \\\\\n",
    "= \\sum_{j=0}^{N-1} \\lambda_j^{-1} b_j  \\lvert u_j \\rangle\n",
    "$$"
   ]
  },
  {
   "cell_type": "markdown",
   "metadata": {},
   "source": [
    "### Qiskit implementation\n",
    "First, we try naive solutions using numpy and Qiskit. "
   ]
  },
  {
   "cell_type": "code",
   "execution_count": 1,
   "metadata": {},
   "outputs": [],
   "source": [
    "import numpy as np\n",
    "# A = np.array([\n",
    "#     [1, -1/3],\n",
    "#     [-1/3, 1]\n",
    "# ])\n",
    "# b = np.array([1, 0])\n",
    "\n",
    "# A = np.array([\n",
    "#     [3, -1],\n",
    "#     [-1, -3]\n",
    "# ])\n",
    "# b = np.array([3, 0])\n",
    "\n",
    "A = np.array([\n",
    "    [1, -1/4],\n",
    "    [-1/4, 1]\n",
    "])\n",
    "b = np.array([4, 0])\n",
    "\n"
   ]
  },
  {
   "cell_type": "code",
   "execution_count": 21,
   "metadata": {},
   "outputs": [
    {
     "data": {
      "text/plain": [
       "1.0666666666666667"
      ]
     },
     "execution_count": 21,
     "metadata": {},
     "output_type": "execute_result"
    }
   ],
   "source": []
  },
  {
   "cell_type": "markdown",
   "metadata": {},
   "source": [
    "#### solving with numpy package"
   ]
  },
  {
   "cell_type": "code",
   "execution_count": 2,
   "metadata": {},
   "outputs": [
    {
     "data": {
      "text/plain": [
       "array([4.26666667, 1.06666667])"
      ]
     },
     "execution_count": 2,
     "metadata": {},
     "output_type": "execute_result"
    }
   ],
   "source": [
    "x_numpy_sol = np.linalg.solve(A, b)\n",
    "x_numpy_sol"
   ]
  },
  {
   "cell_type": "code",
   "execution_count": 3,
   "metadata": {},
   "outputs": [
    {
     "data": {
      "text/plain": [
       "4.397979333992171"
      ]
     },
     "execution_count": 3,
     "metadata": {},
     "output_type": "execute_result"
    }
   ],
   "source": [
    "np.linalg.norm(x_numpy_sol)"
   ]
  },
  {
   "cell_type": "markdown",
   "metadata": {},
   "source": [
    "Qiskit also has a numpy solver. This solver has the following properties:\n",
    "- state: the circuit prepares the solution or the solution as a vector\n",
    "- euclidean_norm: the eucledian norm if  the algorithm knows how to calculate it.\n",
    "- observable: the list of calculated observables\n",
    "- circuit_results: the observable results from the list of circuits.\n",
    "\n",
    "Let's try it."
   ]
  },
  {
   "cell_type": "code",
   "execution_count": 22,
   "metadata": {},
   "outputs": [],
   "source": [
    "from qiskit.algorithms.linear_solvers.numpy_linear_solver import NumPyLinearSolver"
   ]
  },
  {
   "cell_type": "code",
   "execution_count": 23,
   "metadata": {},
   "outputs": [
    {
     "data": {
      "text/plain": [
       "array([1.06666667, 0.26666667])"
      ]
     },
     "execution_count": 23,
     "metadata": {},
     "output_type": "execute_result"
    }
   ],
   "source": [
    "x_classical_sol = NumPyLinearSolver().solve(A, b/np.linalg.norm(b))\n",
    "x_classical_sol.state"
   ]
  },
  {
   "cell_type": "code",
   "execution_count": 24,
   "metadata": {},
   "outputs": [
    {
     "name": "stdout",
     "output_type": "stream",
     "text": [
      "[1.06666667 0.26666667]\n"
     ]
    }
   ],
   "source": [
    "print(x_classical_sol.state)"
   ]
  },
  {
   "cell_type": "code",
   "execution_count": 25,
   "metadata": {},
   "outputs": [
    {
     "data": {
      "text/plain": [
       "1.0994948334980428"
      ]
     },
     "execution_count": 25,
     "metadata": {},
     "output_type": "execute_result"
    }
   ],
   "source": [
    "x_classical_sol.euclidean_norm"
   ]
  },
  {
   "cell_type": "code",
   "execution_count": 26,
   "metadata": {},
   "outputs": [
    {
     "name": "stdout",
     "output_type": "stream",
     "text": [
      "error:  3.298484500494128\n"
     ]
    }
   ],
   "source": [
    "print('error: ', np.linalg.norm(x_numpy_sol) - x_classical_sol.euclidean_norm)"
   ]
  },
  {
   "cell_type": "markdown",
   "metadata": {},
   "source": [
    "#### solving with Qiskit HHL solver"
   ]
  },
  {
   "cell_type": "code",
   "execution_count": 27,
   "metadata": {},
   "outputs": [],
   "source": [
    "from qiskit.algorithms.linear_solvers.hhl import HHL"
   ]
  },
  {
   "cell_type": "code",
   "execution_count": 28,
   "metadata": {},
   "outputs": [
    {
     "name": "stdout",
     "output_type": "stream",
     "text": [
      "       ┌─────────────┐┌──────┐        ┌─────────┐\n",
      "  q32: ┤ circuit-338 ├┤3     ├────────┤3        ├\n",
      "       └─────────────┘│      │┌──────┐│         │\n",
      "q33_0: ───────────────┤0     ├┤2     ├┤0        ├\n",
      "                      │  QPE ││      ││  QPE_dg │\n",
      "q33_1: ───────────────┤1     ├┤1     ├┤1        ├\n",
      "                      │      ││  1/x ││         │\n",
      "q33_2: ───────────────┤2     ├┤0     ├┤2        ├\n",
      "                      └──────┘│      │└─────────┘\n",
      "  q34: ───────────────────────┤3     ├───────────\n",
      "                              └──────┘           \n"
     ]
    }
   ],
   "source": [
    "x_naive_hhl_sol = HHL().solve(A, b)\n",
    "print(x_naive_hhl_sol.state)"
   ]
  },
  {
   "cell_type": "markdown",
   "metadata": {},
   "source": [
    "As you can see, the quantum solution is not straightforward like numpy solver. There are three registers used to implement HHL algorithm (we will explain details soon). One of them is the auxiliary qubit, where we can measure the probability of 1 using the squared norm. This is actually the euclidian norm for the solution. Therefore, we can compute,"
   ]
  },
  {
   "cell_type": "code",
   "execution_count": 29,
   "metadata": {},
   "outputs": [
    {
     "data": {
      "text/plain": [
       "1.0577909718646612"
      ]
     },
     "execution_count": 29,
     "metadata": {},
     "output_type": "execute_result"
    }
   ],
   "source": [
    "x_naive_hhl_sol.euclidean_norm"
   ]
  },
  {
   "cell_type": "code",
   "execution_count": 30,
   "metadata": {},
   "outputs": [
    {
     "name": "stdout",
     "output_type": "stream",
     "text": [
      "error:  -0.04170386163338158\n"
     ]
    }
   ],
   "source": [
    "print('error: ', x_naive_hhl_sol.euclidean_norm - x_classical_sol.euclidean_norm)"
   ]
  },
  {
   "cell_type": "markdown",
   "metadata": {},
   "source": [
    "The results are not same but quite close."
   ]
  },
  {
   "cell_type": "markdown",
   "metadata": {},
   "source": [
    "Now, we are also interested to compare whether the state vectors are same or not. Typically, we cannot obtain the full solution vector from the quantum algorithm. However, we can only approximate the solution vector and compare if that is good enough."
   ]
  },
  {
   "cell_type": "code",
   "execution_count": 31,
   "metadata": {},
   "outputs": [],
   "source": [
    "from qiskit.quantum_info import Statevector\n"
   ]
  },
  {
   "cell_type": "code",
   "execution_count": 32,
   "metadata": {},
   "outputs": [],
   "source": [
    "x_naive = Statevector(x_naive_hhl_sol.state).data"
   ]
  },
  {
   "cell_type": "code",
   "execution_count": 33,
   "metadata": {},
   "outputs": [
    {
     "data": {
      "text/plain": [
       "(32,)"
      ]
     },
     "execution_count": 33,
     "metadata": {},
     "output_type": "execute_result"
    }
   ],
   "source": [
    "x_naive.shape"
   ]
  },
  {
   "cell_type": "code",
   "execution_count": 34,
   "metadata": {},
   "outputs": [
    {
     "data": {
      "text/plain": [
       "array([0.75435554-6.43307893e-16j, 0.24564446-1.63660935e-16j])"
      ]
     },
     "execution_count": 34,
     "metadata": {},
     "output_type": "execute_result"
    }
   ],
   "source": [
    "x_naive = np.array([x_naive[16], x_naive[17]])\n",
    "x_naive"
   ]
  },
  {
   "cell_type": "markdown",
   "metadata": {},
   "source": [
    "Here, we can see that components are mixed of real and complex number. Our solution should be real, so"
   ]
  },
  {
   "cell_type": "code",
   "execution_count": 35,
   "metadata": {},
   "outputs": [
    {
     "data": {
      "text/plain": [
       "array([0.75435554, 0.24564446])"
      ]
     },
     "execution_count": 35,
     "metadata": {},
     "output_type": "execute_result"
    }
   ],
   "source": [
    "x_real = np.real(x_naive)\n",
    "x_real"
   ]
  },
  {
   "cell_type": "markdown",
   "metadata": {},
   "source": [
    "Hey! This is not what we are expecting what's wrong!\n",
    "The solution is affected by constants coming from different parts of the circuits. And, we can recover the solution by multiplying these normalized vectors by the respective Euclidean norm."
   ]
  },
  {
   "cell_type": "code",
   "execution_count": 36,
   "metadata": {},
   "outputs": [
    {
     "data": {
      "text/plain": [
       "array([1.00580738, 0.32752595])"
      ]
     },
     "execution_count": 36,
     "metadata": {},
     "output_type": "execute_result"
    }
   ],
   "source": [
    "x_real*x_naive_hhl_sol.euclidean_norm/np.linalg.norm(x_real)"
   ]
  },
  {
   "cell_type": "markdown",
   "metadata": {},
   "source": [
    "### Summary of the HHL algorithm"
   ]
  },
  {
   "cell_type": "markdown",
   "metadata": {},
   "source": [
    "The algorithm uses three registers: \n",
    "    - $n_l$: to store a binary representation of the eigenvalues of the matrix $A$.\n",
    "    - $n_b$: to store the vector solution.\n",
    "    - $n_a$: to store auxiliary qubits.\n",
    "    \n",
    "The following diagram shows the components of HHL circuit."
   ]
  },
  {
   "cell_type": "markdown",
   "metadata": {},
   "source": [
    "<img src=\"../images/hhlcircuit.png\" width=\"600\">\n"
   ]
  },
  {
   "cell_type": "markdown",
   "metadata": {},
   "source": [
    "1. Load the data $\\lvert b \\rangle \\in \\mathcal{C}^N$. More specifically, we perform the transformation $\\lvert 0 \\rangle_{n_b} \\mapsto \\lvert b \\rangle_{n_b}$.\n",
    "2. We apply quantum phase estimation (QPE) with \n",
    "$$\n",
    "U = \\exp^{iAt} := \\sum_{j=0}^{N-1}\\exp^{i\\lambda_j t} \\lvert u_j \\rangle \\langle u_j \\rvert.\n",
    "$$\n",
    "The quantum state of the register expressed in the eigenbasis of A is now\n",
    "$$\n",
    "\\sum_{j=0}^{N-1} b_j \\lvert \\lambda_j \\rangle_{n_l} \\lvert u_j \\rangle_{n_b}.\n",
    "$$\n",
    "3. Add an auxiliary qubit and apply a rotation conditioned on $\\lvert \\lambda_j \\rangle$,\n",
    "$$\n",
    "\\sum_{j=0}^{N-1} b_j \\lvert \\lambda_j \\rangle_{n_l} \\lvert u_j \\rangle_{n_b} \\left( \\sqrt{1-\\frac{C^2}{\\lambda_j^2}}\\lvert 0 \\rangle + \\frac{C}{\\lambda_j}\\lvert 1\\rangle \\right).\n",
    "$$\n"
   ]
  },
  {
   "cell_type": "markdown",
   "metadata": {},
   "source": [
    "4. Apply trasnpose QPE. This results in \n",
    "$$\n",
    "\\sum_{j=0}^{N-1} b_j \\lvert 0 \\rangle_{n_l} \\lvert u_j \\rangle_{n_b} \\left( \\sqrt{1-\\frac{C^2}{\\lambda_j^2}}\\lvert 0 \\rangle + \\frac{C}{\\lambda_j}\\lvert 1\\rangle \\right).\n",
    "$$\n",
    "5. Measure the auxiliary qubit in the computational basis. If the outcome is 1, the register is in the post measurement state\n",
    "$$\n",
    "\\left( \\sqrt{\\frac{1}{\\sum_{j=0}^{N-1}|b_j|^2/|\\lambda_j|^2 }} \\right) \\sum_{j=0}^{N-1} \\frac{b_j}{\\lambda_j}\\lvert 0 \\rangle_{n_l}\\lvert u_j \\rangle_{n_b}\n",
    "$$\n",
    "\n",
    "which up to a normalization factor corresponds to the solution.\n",
    "6. Apply an observable M to calculate $F(x):=\\langle x \\rvert M \\lvert x \\rangle$."
   ]
  },
  {
   "cell_type": "code",
   "execution_count": null,
   "metadata": {},
   "outputs": [],
   "source": [
    "\n"
   ]
  },
  {
   "cell_type": "code",
   "execution_count": null,
   "metadata": {},
   "outputs": [],
   "source": []
  }
 ],
 "metadata": {
  "kernelspec": {
   "display_name": "Python 3",
   "language": "python",
   "name": "python3"
  },
  "language_info": {
   "codemirror_mode": {
    "name": "ipython",
    "version": 3
   },
   "file_extension": ".py",
   "mimetype": "text/x-python",
   "name": "python",
   "nbconvert_exporter": "python",
   "pygments_lexer": "ipython3",
   "version": "3.8.3"
  }
 },
 "nbformat": 4,
 "nbformat_minor": 4
}
