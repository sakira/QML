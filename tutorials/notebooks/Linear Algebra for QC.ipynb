{
 "cells": [
  {
   "cell_type": "markdown",
   "metadata": {},
   "source": [
    "# Linear Algebra for Quantum Computing"
   ]
  },
  {
   "cell_type": "markdown",
   "metadata": {},
   "source": [
    "References:\n",
    "- Linear Algebra from QISKit textbook: [link](https://qiskit.org/textbook/ch-appendix/linear_algebra.html)\n",
    "- Quantum walk and search algorithms: [book](https://link.springer.com/book/10.1007/978-1-4614-6336-8)\n",
    "- Notations and other details: [link](https://cds.cern.ch/record/1522001/files/978-1-4614-6336-8_BookBackMatter.pdf)"
   ]
  },
  {
   "cell_type": "markdown",
   "metadata": {},
   "source": [
    "This notebook guides you with the some basic notations, definitions and facts of Linear Algebra for Quantum Computing. Linear algebra is a tool that gives a simple way to compute the gate operations on qubits."
   ]
  },
  {
   "cell_type": "markdown",
   "metadata": {},
   "source": [
    "### Dirac notation for vector space"
   ]
  },
  {
   "cell_type": "markdown",
   "metadata": {},
   "source": [
    "In general, we use bold font and an upper arrow to denote a vector. For example, $\\vec{\\textbf{v}}$.\n",
    "However, in the context of Quantum mechanics, we use a notation called $\\textit{Dirac}$ or $\\textit{bra-ket}$ for algebraic manipulations, which was introduced by the English physicist Paul Dirac [?ref needed]"
   ]
  },
  {
   "cell_type": "markdown",
   "metadata": {},
   "source": [
    "In this case, we use a vertical bar and an right angle to express the vector. For instance,\n",
    "$\\mid v \\rangle$.\n",
    "- $\\{\\mathbf{v}_1, \\ldots, \\mathbf{v}_n\\}$ can be expressed as $\\{\\mid{v_1} \\rangle, \\ldots, \\mid v_n \\rangle\\}$ or $\\{\\mid1\\rangle, \\ldots \\mid n\\rangle\\}$\n",
    "- Note that, the first basis vector which starts from zero is expressed as $\\mathbf{v}_0 \\equiv \\, \\mid 0 \\rangle$. This is not a zero vector instead it is only the first vector in the collection of vectors."
   ]
  },
  {
   "cell_type": "markdown",
   "metadata": {},
   "source": [
    "We can express $\\mid 0 \\rangle$ as follows\n",
    "\n",
    "$$\n",
    "\\mid 0 \\rangle = \\begin{bmatrix} 1 \\\\ 0 \\end{bmatrix}.\n",
    "$$\n",
    "\n",
    "\n",
    "$\\mid 1 \\rangle$ can be express as \n",
    "\n",
    "$$\n",
    "\\mid 1 \\rangle = \\begin{bmatrix} 0 \\\\ 1 \\end{bmatrix}.\n",
    "$$\n",
    "\n",
    "$\\mid i \\rangle$ can be express as \n",
    "\n",
    "$$\n",
    "\\mid i \\rangle =  \\frac{1}{\\sqrt{2}} \\mid 0 \\rangle +  \\frac{i}{\\sqrt{2}} \\mid 1 \\rangle =  \\frac{1}{\\sqrt{2}} \\begin{bmatrix} 1 \\\\ i \\end{bmatrix}.\n",
    "$$\n",
    "\n",
    "\n",
    "A generic qubit can be expressed as \n",
    "\n",
    "$$\n",
    "\\mid \\psi \\rangle =  \\alpha \\mid 0 \\rangle +  \\beta \\mid 1 \\rangle =  \\alpha \\begin{bmatrix} 1 \\\\ 0 \\end{bmatrix} + \\beta \\begin{bmatrix} 0 \\\\ 1 \\end{bmatrix} =  \\begin{bmatrix} \\alpha \\\\ \\beta \\end{bmatrix}.\n",
    "$$\n",
    "\n"
   ]
  },
  {
   "cell_type": "markdown",
   "metadata": {},
   "source": [
    "### Matrix product\n",
    "\n",
    "We will discuss about inner and outer products.\n",
    "\n",
    "Suppose vector $\\mid{v} \\rangle$ has the following entries in a basis:\n",
    "$$\n",
    "\\mid{v} \\rangle = \\begin{bmatrix} a_1 \\\\ \\vdots \\\\ a_n \\end{bmatrix}.\n",
    "$$\n",
    "The dual vector (conjugate transpose) can be denoted as $ \\langle {v}\\mid $ and defined as:\n",
    "$$\n",
    "\\langle {v}\\mid = \\begin{bmatrix} a_1^* & \\ldots & a_n^* \\end{bmatrix}.\n",
    "$$\n",
    "\n",
    "For example, the dual vector of a generic qubit can be written as\n",
    "$$\n",
    "\\langle \\psi \\mid = \\begin{bmatrix} \\alpha^* & \\beta^* \\end{bmatrix} = \\alpha^* \\langle 0 \\mid + \\beta^* \\langle 1 \\mid. \n",
    "$$\n",
    "\n",
    "\n"
   ]
  },
  {
   "cell_type": "markdown",
   "metadata": {},
   "source": [
    "#### Inner product\n",
    "\n",
    "The matrix product of $ \\langle {v}\\mid $ by $\\mid{v} \\rangle$, also known as inner product, is denoted as\n",
    "$$\n",
    "\\langle {v}\\mid {v} \\rangle\n",
    "$$ \n",
    "and the values are\n",
    "$$\n",
    "\\langle {v}\\mid {v} \\rangle = \\sum_{i=1}^n a_i^* a_i.\n",
    "$$ \n"
   ]
  },
  {
   "cell_type": "markdown",
   "metadata": {},
   "source": [
    "#### Outer product\n",
    "\n",
    "The matrix product of $\\mid{v} \\rangle$ by $ \\langle {v}\\mid $, also known as outer product, is denoted as\n",
    "$$\n",
    "\\mid {v} \\rangle \\langle {v}\\mid\n",
    "$$\n",
    "\n",
    "and the values are\n",
    "\n",
    "$$\n",
    "\\mid {v} \\rangle \\langle {v}\\mid \\, = \\begin{bmatrix} a_1 \\\\ \\vdots \\\\ a_n \\end{bmatrix} \\begin{bmatrix} a_1^* & \\ldots & a_n^* \\end{bmatrix}\n",
    "$$ \n",
    "\n",
    "\n",
    "$$\n",
    " = \\begin{bmatrix} \n",
    "         a_1 a_1^* & \\ldots & a_1 a_n^* \\\\\n",
    "         & \\ddots & \\\\\n",
    "         a_n a_1^* & \\ldots & a_n a_n^* \n",
    "   \\end{bmatrix}\n",
    "$$"
   ]
  },
  {
   "cell_type": "markdown",
   "metadata": {},
   "source": [
    "### Canonical Basis\n",
    "\n",
    "The computational/canonical basis of  $\\mathcal{C}^n$ is denoted by $\\{ \\mid 0 \\rangle, \\ldots \\mid n-1 \\rangle \\}$ and is given by\n",
    "\n",
    "$$\n",
    "\\mid{0} \\rangle = \\begin{bmatrix} 1 \\\\ 0 \\\\ \\vdots \\\\ 0 \\end{bmatrix}, \\ldots \\mid{n-1} \\rangle = \\begin{bmatrix} 0 \\\\ 0 \\\\ \\vdots \\\\ 1 \\end{bmatrix}.\n",
    "$$"
   ]
  },
  {
   "cell_type": "markdown",
   "metadata": {},
   "source": [
    "### Quantum gates as matrices\n",
    "\n",
    "A quantum gate $U$ that acts on qubits can be expressed in the matrix format as follows:\n",
    "\n",
    "$$\n",
    "U \\mid 0 \\rangle = a\\mid 0 \\rangle + b\\mid 1 \\rangle = \\begin{bmatrix} a \\\\ b \\end{bmatrix}\n",
    "$$\n",
    "\n",
    "\n",
    "$$\n",
    "U \\mid 1 \\rangle = c\\mid 0 \\rangle + d\\mid 1 \\rangle = \\begin{bmatrix} c \\\\ d \\end{bmatrix}\n",
    "$$\n",
    "\n",
    "If the coefficients can be arranged in a 2 by 2 matrix, then we have \n",
    "\n",
    "$$\n",
    "U \\mid 0 \\rangle =  \\begin{bmatrix} a & c \\\\ b & d \\end{bmatrix} \\begin{bmatrix} 1 \\\\ 0 \\end{bmatrix} = \\begin{bmatrix} a \\\\ b \\end{bmatrix},\n",
    "$$\n",
    "\n",
    "and\n",
    "\n",
    "$$\n",
    "U \\mid 1 \\rangle =  \\begin{bmatrix} a & c \\\\ b & d \\end{bmatrix} \\begin{bmatrix} 0 \\\\ 1 \\end{bmatrix} = \\begin{bmatrix} c \\\\ d \\end{bmatrix}.\n",
    "$$\n",
    "\n"
   ]
  },
  {
   "cell_type": "markdown",
   "metadata": {},
   "source": [
    "### Identity gate\n",
    "\n",
    "We can represent in matrix notation as follows:\n",
    "\n",
    "$$\n",
    "I = \\begin{bmatrix} 1 & 0 \\\\ 0 & 1 \\end{bmatrix}.\n",
    "$$"
   ]
  },
  {
   "cell_type": "markdown",
   "metadata": {},
   "source": [
    "### Pauli matrices\n",
    "\n",
    "Pauli matrices are a set of three 2 × 2 complex matrices, which are Hermitian and unitary and denoted by $\\sigma$.\n",
    "The matrices are\n",
    "\n",
    "$$\n",
    "\\sigma_1 = \\sigma_x = X = \\begin{bmatrix} 0 & 1 \\\\ 1 & 0 \\end{bmatrix},\n",
    "$$\n",
    "\n",
    "\n",
    "\n",
    "$$\n",
    "\\sigma_2 = \\sigma_y = Y = \\begin{bmatrix} 0 & -i \\\\ i & 0 \\end{bmatrix},\n",
    "$$\n",
    "\n",
    "\n",
    "$$\n",
    "\\sigma_3 = \\sigma_z = Z = \\begin{bmatrix} 1 & 0 \\\\ 0 & -1 \\end{bmatrix},\n",
    "$$"
   ]
  },
  {
   "cell_type": "markdown",
   "metadata": {},
   "source": [
    "### Phase S gate\n",
    "\n",
    "$$\n",
    "S = \\begin{bmatrix} 1 & 0 \\\\ 0 & i \\end{bmatrix}.\n",
    "$$\n",
    "\n",
    "### T gate\n",
    "\n",
    "$$\n",
    "T = \\begin{bmatrix} 1 & 0 \\\\ 0 & \\exp^{i \\, \\pi/4} \\end{bmatrix}.\n",
    "$$\n",
    "\n"
   ]
  },
  {
   "cell_type": "markdown",
   "metadata": {},
   "source": [
    "### Hadamard H gate\n",
    "\n",
    "$$\n",
    "H = \\frac{1}{\\sqrt{2}}\\begin{bmatrix} 1 & 1 \\\\ 1 & -1 \\end{bmatrix}.\n",
    "$$\n"
   ]
  },
  {
   "cell_type": "code",
   "execution_count": null,
   "metadata": {},
   "outputs": [],
   "source": []
  },
  {
   "cell_type": "markdown",
   "metadata": {},
   "source": [
    "Consider the example from the [Quantum Gates notebook](Quantum%20gates.ipynb):\n",
    "\n",
    "$$\n",
    "ZSH \\mid 0 \\rangle\n",
    "$$"
   ]
  },
  {
   "cell_type": "markdown",
   "metadata": {},
   "source": [
    "$$\n",
    "ZSH \\mid 0 \\rangle = \\begin{bmatrix} 1 & 0 \\\\ 0 & -1 \\end{bmatrix} \\begin{bmatrix} 1 & 0 \\\\ 0 & i \\end{bmatrix} \\frac{1}{\\sqrt{2}}\\begin{bmatrix} 1 & 1 \\\\ 1 & -1 \\end{bmatrix} \\begin{bmatrix} 1 \\\\ 0 \\end{bmatrix}\n",
    "$$"
   ]
  },
  {
   "cell_type": "markdown",
   "metadata": {},
   "source": [
    "$$\n",
    " = \\begin{bmatrix} \\frac{1}{\\sqrt{2}} \\\\ -\\frac{i}{\\sqrt{2}} \\end{bmatrix}.\n",
    "$$"
   ]
  },
  {
   "cell_type": "code",
   "execution_count": null,
   "metadata": {},
   "outputs": [],
   "source": [
    "\n"
   ]
  }
 ],
 "metadata": {
  "kernelspec": {
   "display_name": "Python 3",
   "language": "python",
   "name": "python3"
  },
  "language_info": {
   "codemirror_mode": {
    "name": "ipython",
    "version": 3
   },
   "file_extension": ".py",
   "mimetype": "text/x-python",
   "name": "python",
   "nbconvert_exporter": "python",
   "pygments_lexer": "ipython3",
   "version": "3.8.3"
  }
 },
 "nbformat": 4,
 "nbformat_minor": 4
}
