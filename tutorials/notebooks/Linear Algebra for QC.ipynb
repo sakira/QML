{
 "cells": [
  {
   "cell_type": "markdown",
   "metadata": {},
   "source": [
    "# Linear Algebra for Quantum Computing"
   ]
  },
  {
   "cell_type": "markdown",
   "metadata": {},
   "source": [
    "References:\n",
    "- Linear Algebra from QISKit textbook: [link](https://qiskit.org/textbook/ch-appendix/linear_algebra.html)\n",
    "- Quantum walk and search algorithms: [book](https://link.springer.com/book/10.1007/978-1-4614-6336-8)\n",
    "- Notations and other details: [link](https://cds.cern.ch/record/1522001/files/978-1-4614-6336-8_BookBackMatter.pdf)"
   ]
  },
  {
   "cell_type": "markdown",
   "metadata": {},
   "source": [
    "This notebook guides you with the some basic notations, definitions and facts of Linear Algebra for Quantum Computing."
   ]
  },
  {
   "cell_type": "markdown",
   "metadata": {},
   "source": [
    "### Dirac notation for vector space"
   ]
  },
  {
   "cell_type": "markdown",
   "metadata": {},
   "source": [
    "In general, we use bold font and an upper arrow to denote a vector. For example, $\\vec{\\textbf{v}}$.\n",
    "However, in the context of Quantum mechanics, we use a notation called $\\textit{Dirac}$ or $\\textit{bra-ket}$ for algebraic manipulations, which was introduced by the English physicist Paul Dirac [?ref needed]"
   ]
  },
  {
   "cell_type": "markdown",
   "metadata": {},
   "source": [
    "In this case, we use a vertical bar and an right angle to express the vector. For instance,\n",
    "$\\mid v \\rangle$.\n",
    "- $\\{\\mathbf{v}_1, \\ldots, \\mathbf{v}_n\\}$ can be expressed as $\\{\\mid{v_1} \\rangle, \\ldots, \\mid v_n \\rangle\\}$ or $\\{\\mid1\\rangle, \\ldots \\mid n\\rangle\\}$\n",
    "- Note that, the first basis vector which starts from zero is expressed as $\\mathbf{v}_0 \\equiv \\, \\mid 0 \\rangle$. This is not a zero vector instead it is only the first vector in the collection of vectors."
   ]
  },
  {
   "cell_type": "markdown",
   "metadata": {},
   "source": [
    "### Matrix product\n",
    "Suppose vector $\\mid{v} \\rangle$ has the following entries in a basis:\n",
    "$$\n",
    "\\mid{v} \\rangle = \\begin{bmatrix} a_1 \\\\ \\vdots \\\\ a_n \\end{bmatrix}.\n",
    "$$\n",
    "The dual vector can be denoted as $ \\langle {v}\\mid $ and defined as:\n",
    "$$\n",
    "\\langle {v}\\mid = \\begin{bmatrix} a_1^* & \\ldots & a_n^* \\end{bmatrix}.\n",
    "$$\n",
    "\n",
    "#### Inner product\n",
    "\n",
    "The matrix product of $ \\langle {v}\\mid $ by $\\mid{v} \\rangle$, also known as inner product, is denoted as\n",
    "$$\n",
    "\\langle {v}\\mid {v} \\rangle\n",
    "$$ \n",
    "and the values are\n",
    "$$\n",
    "\\langle {v}\\mid {v} \\rangle = \\sum_{i=1}^n a_i^* a_i.\n",
    "$$ \n",
    "\n"
   ]
  },
  {
   "cell_type": "markdown",
   "metadata": {},
   "source": [
    "#### Outer product\n",
    "\n",
    "The matrix product of $\\mid{v} \\rangle$ by $ \\langle {v}\\mid $, also known as outer product, is denoted as\n",
    "$$\n",
    "\\mid {v} \\rangle \\langle {v}\\mid\n",
    "$$\n",
    "\n",
    "and the values are\n",
    "\n",
    "$$\n",
    "\\mid {v} \\rangle \\langle {v}\\mid \\, = \\begin{bmatrix} a_1 \\\\ \\vdots \\\\ a_n \\end{bmatrix} \\begin{bmatrix} a_1^* & \\ldots & a_n^* \\end{bmatrix}\n",
    "$$ \n",
    "\n",
    "\n",
    "$$\n",
    " = \\begin{bmatrix} \n",
    "         a_1 a_1^* & \\ldots & a_1 a_n^* \\\\\n",
    "         & \\ddots & \\\\\n",
    "         a_n a_1^* & \\ldots & a_n a_n^* \n",
    "   \\end{bmatrix}\n",
    "$$"
   ]
  },
  {
   "cell_type": "markdown",
   "metadata": {},
   "source": [
    "### Canonical Basis\n",
    "\n",
    "The computational/canonical basis of  $\\mathcal{C}^n$ is denoted by $\\{ \\mid 0 \\rangle, \\ldots \\mid n-1 \\rangle \\}$ and is given by\n",
    "\n",
    "$$\n",
    "\\mid{0} \\rangle = \\begin{bmatrix} 1 \\\\ 0 \\\\ \\vdots \\\\ 0 \\end{bmatrix}, \\ldots \\mid{n-1} \\rangle = \\begin{bmatrix} 0 \\\\ 0 \\\\ \\vdots \\\\ 1 \\end{bmatrix}.\n",
    "$$"
   ]
  },
  {
   "cell_type": "markdown",
   "metadata": {},
   "source": [
    "### Pauli matrices\n",
    "\n",
    "Pauli matrices are a set of three 2 × 2 complex matrices, which are Hermitian and unitary and denoted by $\\sigma$.\n",
    "The matrices are\n",
    "\n",
    "$$\n",
    "\\sigma_1 = \\sigma_x = X = \\begin{bmatrix} 0 & 1 \\\\ 1 & 0 \\end{bmatrix},\n",
    "$$\n",
    "\n",
    "\n",
    "\n",
    "$$\n",
    "\\sigma_2 = \\sigma_y = Y = \\begin{bmatrix} 0 & -i \\\\ i & 0 \\end{bmatrix},\n",
    "$$\n",
    "\n",
    "\n",
    "$$\n",
    "\\sigma_3 = \\sigma_z = Z = \\begin{bmatrix} 1 & 0 \\\\ 0 & -1 \\end{bmatrix},\n",
    "$$"
   ]
  }
 ],
 "metadata": {
  "kernelspec": {
   "display_name": "Python 3",
   "language": "python",
   "name": "python3"
  },
  "language_info": {
   "codemirror_mode": {
    "name": "ipython",
    "version": 3
   },
   "file_extension": ".py",
   "mimetype": "text/x-python",
   "name": "python",
   "nbconvert_exporter": "python",
   "pygments_lexer": "ipython3",
   "version": "3.8.3"
  }
 },
 "nbformat": 4,
 "nbformat_minor": 4
}
